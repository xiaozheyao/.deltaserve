{
 "cells": [
  {
   "cell_type": "code",
   "execution_count": 1,
   "metadata": {},
   "outputs": [
    {
     "name": "stderr",
     "output_type": "stream",
     "text": [
      "/mnt/scratch/xiayao/mamba/envs/triteia/lib/python3.10/site-packages/tqdm/auto.py:21: TqdmWarning: IProgress not found. Please update jupyter and ipywidgets. See https://ipywidgets.readthedocs.io/en/stable/user_install.html\n",
      "  from .autonotebook import tqdm as notebook_tqdm\n",
      "2024-05-16 20:53:12,496\tINFO util.py:154 -- Missing packages: ['ipywidgets']. Run `pip install -U ipywidgets`, then restart the notebook server for rich notebook output.\n"
     ]
    }
   ],
   "source": [
    "from data_utils import prepare_df\n",
    "input_file = \"../../results/pjlab/ready\"\n",
    "df = prepare_df(input_file)"
   ]
  },
  {
   "cell_type": "code",
   "execution_count": 13,
   "metadata": {},
   "outputs": [
    {
     "name": "stdout",
     "output_type": "stream",
     "text": [
      "System: Baseline-1, Distribution: uniform\n",
      "2249.0719895362854\n",
      "System: +Delta, Distribution: uniform\n",
      "2051.563935279846\n",
      "System: +Delta, Distribution: zipf:1.5\n",
      "1447.3814225196838\n",
      "System: Baseline-1, Distribution: azure\n",
      "1562.0231244564056\n",
      "System: +Delta, Distribution: azure\n",
      "1165.0427854061127\n"
     ]
    }
   ],
   "source": [
    "ar = \"6.0\"\n",
    "total_models = 33\n",
    "\n",
    "sub_df = df[df[\"ar\"] == ar]\n",
    "sub_df = sub_df[sub_df[\"type\"] == \"E2E Latency\"]\n",
    "sub_df = sub_df[sub_df[\"total_models\"] == total_models]\n",
    "distributions = sub_df[\"distribution\"].unique()\n",
    "# group by distribution\n",
    "for distribution in distributions:\n",
    "    sub_df_dist = sub_df[sub_df[\"distribution\"] == distribution]\n",
    "    systems = sub_df_dist[\"sys_name\"].unique()\n",
    "    for system in systems:\n",
    "        sub_df_sys = sub_df_dist[sub_df_dist[\"sys_name\"] == system]\n",
    "        print(f\"System: {system}, Distribution: {distribution}\")\n",
    "        print(sub_df_sys['time'].max())"
   ]
  }
 ],
 "metadata": {
  "kernelspec": {
   "display_name": "Python 3",
   "language": "python",
   "name": "python3"
  },
  "language_info": {
   "codemirror_mode": {
    "name": "ipython",
    "version": 3
   },
   "file_extension": ".py",
   "mimetype": "text/x-python",
   "name": "python",
   "nbconvert_exporter": "python",
   "pygments_lexer": "ipython3",
   "version": "3.10.13"
  }
 },
 "nbformat": 4,
 "nbformat_minor": 2
}
