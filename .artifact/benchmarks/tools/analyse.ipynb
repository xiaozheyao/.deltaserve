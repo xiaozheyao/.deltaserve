{
 "cells": [
  {
   "cell_type": "code",
   "execution_count": 3,
   "metadata": {},
   "outputs": [
    {
     "name": "stderr",
     "output_type": "stream",
     "text": [
      "/mnt/scratch/xiayao/mamba/envs/triteia/lib/python3.10/site-packages/tqdm/auto.py:21: TqdmWarning: IProgress not found. Please update jupyter and ipywidgets. See https://ipywidgets.readthedocs.io/en/stable/user_install.html\n",
      "  from .autonotebook import tqdm as notebook_tqdm\n",
      "2024-05-17 22:08:59,522\tINFO util.py:154 -- Missing packages: ['ipywidgets']. Run `pip install -U ipywidgets`, then restart the notebook server for rich notebook output.\n"
     ]
    }
   ],
   "source": [
    "import pandas as pd\n",
    "from vllm.tools.utils import parse_data, get_title"
   ]
  },
  {
   "cell_type": "code",
   "execution_count": 6,
   "metadata": {},
   "outputs": [],
   "source": [
    "result_file = \"../results/analysis/639dcd89-544d-452a-84cd-bc56e3dc2527.jsonl\""
   ]
  },
  {
   "cell_type": "code",
   "execution_count": 7,
   "metadata": {},
   "outputs": [],
   "source": [
    "metadata, data = parse_data(result_file)\n",
    "df = pd.DataFrame(data)\n",
    "df = df.sort_values(by=\"arrival_time\")\n",
    "id_map = {v: i for i, v in enumerate(df[\"id\"])}\n",
    "df[\"id\"] = df[\"id\"].map(id_map)\n",
    "unique_ids = df[\"id\"].unique()\n",
    "id_map = {v: i for i, v in enumerate(unique_ids)}\n",
    "df[\"id\"] = df[\"id\"].map(id_map)\n",
    "\n",
    "df.to_csv(\"e2e_latency.csv\", index=False)"
   ]
  }
 ],
 "metadata": {
  "kernelspec": {
   "display_name": "Python 3",
   "language": "python",
   "name": "python3"
  },
  "language_info": {
   "codemirror_mode": {
    "name": "ipython",
    "version": 3
   },
   "file_extension": ".py",
   "mimetype": "text/x-python",
   "name": "python",
   "nbconvert_exporter": "python",
   "pygments_lexer": "ipython3",
   "version": "3.10.13"
  }
 },
 "nbformat": 4,
 "nbformat_minor": 2
}
