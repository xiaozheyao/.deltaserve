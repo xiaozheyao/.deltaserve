{
 "cells": [
  {
   "cell_type": "code",
   "execution_count": 3,
   "metadata": {},
   "outputs": [],
   "source": [
    "import pandas as pd\n",
    "from plot.utils import parse_data, get_title"
   ]
  },
  {
   "cell_type": "code",
   "execution_count": 9,
   "metadata": {},
   "outputs": [],
   "source": [
    "# naive vllm\n",
    "# result_file = \"../results/09fbfc16-1241-4166-bd57-92855874b579.jsonl\"\n",
    "# optimized IO\n",
    "# result_file = \"../results/24e46685-a42a-459f-9d7b-5c4c6b9eeb82.jsonl\"\n",
    "# unoptimized IO\n",
    "result_file = \"../results/834d952f-c373-4767-8e3d-6c2c6a76de36.jsonl\""
   ]
  },
  {
   "cell_type": "code",
   "execution_count": 10,
   "metadata": {},
   "outputs": [
    {
     "name": "stdout",
     "output_type": "stream",
     "text": [
      "$\\text{vLLM + Delta}, \\text{uniform}, \\lambda=3.0, \\text{duration=30.0}, \\text{tokens=auto}$\n",
      "Sum of Disk -> CPU: 702.0283432006836\n",
      "Sum of CPU -> GPU: 24.85471534729004\n"
     ]
    }
   ],
   "source": [
    "metadata, data = parse_data(result_file)\n",
    "except_e2e = [x for x in data if x['type'] != 'E2E Latency' ]\n",
    "e2e_latency = [x for x in data if x['type'] == 'E2E Latency']\n",
    "df = pd.DataFrame(except_e2e)\n",
    "\n",
    "title = get_title(metadata)\n",
    "cold_loading_rows = df[df['type']=='Disk -> CPU']\n",
    "warm_loading_rows = df[df['type']=='CPU -> GPU']\n",
    "print(title)\n",
    "print(f\"Sum of Disk -> CPU: {cold_loading_rows['time'].sum()}\")\n",
    "print(f\"Sum of CPU -> GPU: {warm_loading_rows['time'].sum()}\")"
   ]
  }
 ],
 "metadata": {
  "kernelspec": {
   "display_name": "Python 3",
   "language": "python",
   "name": "python3"
  },
  "language_info": {
   "codemirror_mode": {
    "name": "ipython",
    "version": 3
   },
   "file_extension": ".py",
   "mimetype": "text/x-python",
   "name": "python",
   "nbconvert_exporter": "python",
   "pygments_lexer": "ipython3",
   "version": "3.10.13"
  }
 },
 "nbformat": 4,
 "nbformat_minor": 2
}
