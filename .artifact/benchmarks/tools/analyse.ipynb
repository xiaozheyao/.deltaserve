{
 "cells": [
  {
   "cell_type": "code",
   "execution_count": 4,
   "metadata": {},
   "outputs": [],
   "source": [
    "import pandas as pd\n",
    "from vllm.tools.utils import parse_data, get_title"
   ]
  },
  {
   "cell_type": "code",
   "execution_count": 29,
   "metadata": {},
   "outputs": [],
   "source": [
    "result_file = \"../results/analysis/2bb7533a-27f2-4596-a87a-7ba35a6feed2.jsonl\""
   ]
  },
  {
   "cell_type": "code",
   "execution_count": 32,
   "metadata": {},
   "outputs": [],
   "source": [
    "metadata, data = parse_data(result_file)\n",
    "df = pd.DataFrame(data)\n",
    "df = df.sort_values(by=\"arrival_time\")\n",
    "id_map = {v: i for i, v in enumerate(df[\"id\"])}\n",
    "df[\"id\"] = df[\"id\"].map(id_map)\n",
    "unique_ids = df[\"id\"].unique()\n",
    "id_map = {v: i for i, v in enumerate(unique_ids)}\n",
    "df[\"id\"] = df[\"id\"].map(id_map)\n",
    "\n",
    "df.to_csv(\"e2e_latency.csv\", index=False)"
   ]
  }
 ],
 "metadata": {
  "kernelspec": {
   "display_name": "Python 3",
   "language": "python",
   "name": "python3"
  },
  "language_info": {
   "codemirror_mode": {
    "name": "ipython",
    "version": 3
   },
   "file_extension": ".py",
   "mimetype": "text/x-python",
   "name": "python",
   "nbconvert_exporter": "python",
   "pygments_lexer": "ipython3",
   "version": "3.10.13"
  }
 },
 "nbformat": 4,
 "nbformat_minor": 2
}
