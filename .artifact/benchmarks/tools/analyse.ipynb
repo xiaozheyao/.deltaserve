{
 "cells": [
  {
   "cell_type": "code",
   "execution_count": 1,
   "metadata": {},
   "outputs": [],
   "source": [
    "import pandas as pd\n",
    "from plot.utils import parse_data, get_title"
   ]
  },
  {
   "cell_type": "code",
   "execution_count": 12,
   "metadata": {},
   "outputs": [],
   "source": [
    "# naive vllm\n",
    "# result_file = \"../results/09fbfc16-1241-4166-bd57-92855874b579.jsonl\"\n",
    "# optimized IO\n",
    "# result_file = \"../results/a554e8cd-83b3-4377-8202-b6382ea605b1.jsonl\"\n",
    "# unoptimized IO\n",
    "result_file = \"../results/eda00857-ad25-4232-a4a7-e725c7980f75.jsonl\""
   ]
  },
  {
   "cell_type": "code",
   "execution_count": 13,
   "metadata": {},
   "outputs": [
    {
     "name": "stdout",
     "output_type": "stream",
     "text": [
      "$\\text{vLLM + Delta}, \\text{uniform}, \\lambda=1.0, \\text{duration=30.0}, \\text{tokens=auto}$\n",
      "Sum of Disk -> CPU: 7.5984046459198\n",
      "Sum of CPU -> GPU: 4.574315071105957\n"
     ]
    }
   ],
   "source": [
    "metadata, data = parse_data(result_file)\n",
    "except_e2e = [x for x in data if x['type'] != 'E2E Latency' ]\n",
    "e2e_latency = [x for x in data if x['type'] == 'E2E Latency']\n",
    "df = pd.DataFrame(except_e2e)\n",
    "\n",
    "title = get_title(metadata)\n",
    "cold_loading_rows = df[df['type']=='Disk -> CPU']\n",
    "warm_loading_rows = df[df['type']=='CPU -> GPU']\n",
    "print(title)\n",
    "print(f\"Sum of Disk -> CPU: {cold_loading_rows['time'].sum()}\")\n",
    "print(f\"Sum of CPU -> GPU: {warm_loading_rows['time'].sum()}\")"
   ]
  }
 ],
 "metadata": {
  "kernelspec": {
   "display_name": "Python 3",
   "language": "python",
   "name": "python3"
  },
  "language_info": {
   "codemirror_mode": {
    "name": "ipython",
    "version": 3
   },
   "file_extension": ".py",
   "mimetype": "text/x-python",
   "name": "python",
   "nbconvert_exporter": "python",
   "pygments_lexer": "ipython3",
   "version": "3.10.13"
  }
 },
 "nbformat": 4,
 "nbformat_minor": 2
}
